{
 "cells": [
  {
   "cell_type": "markdown",
   "metadata": {
    "collapsed": false,
    "id": "I8F3XGz_dyXc"
   },
   "source": [
    "# H&M Data Sampling and Ingest"
   ]
  },
  {
   "cell_type": "markdown",
   "metadata": {
    "collapsed": false,
    "id": "cmjr1dz8dyXd"
   },
   "source": [
    "## Setup"
   ]
  },
  {
   "cell_type": "code",
   "execution_count": 22,
   "outputs": [],
   "source": [
    "%%capture\n",
    "%pip install python-dotenv graphdatascience neo4j_tools"
   ],
   "metadata": {
    "pycharm": {
     "name": "#%%capture\n"
    },
    "id": "yY1XylsiZACB"
   }
  },
  {
   "cell_type": "code",
   "execution_count": 23,
   "metadata": {
    "id": "7psF1otOdyXe"
   },
   "outputs": [],
   "source": [
    "import pandas as pd\n",
    "\n",
    "pd.set_option('display.max_rows', 10)\n",
    "pd.set_option('display.max_colwidth', 500)\n",
    "pd.set_option('display.width', 0)"
   ]
  },
  {
   "cell_type": "code",
   "execution_count": 24,
   "outputs": [],
   "source": [
    "from dotenv import load_dotenv\n",
    "import os\n",
    "load_dotenv('../.streamlit/secrets.toml', override=True)\n",
    "\n",
    "# Neo4j\n",
    "NEO4J_URI = os.getenv('HM_NEO4J_URI')\n",
    "NEO4J_USERNAME = os.getenv('HM_NEO4J_USERNAME')\n",
    "NEO4J_PASSWORD = os.getenv('HM_NEO4J_PASSWORD')\n",
    "AURA_DS = eval(os.getenv('HM_AURA_DS').title())\n",
    "\n",
    "#OPENAI\n",
    "OPENAI_API_KEY = os.getenv('OPENAI_API_KEY')"
   ],
   "metadata": {
    "collapsed": false
   }
  },
  {
   "cell_type": "markdown",
   "metadata": {
    "collapsed": false,
    "id": "67Tm1p3LdyXe"
   },
   "source": [
    "## Knowledge Graph Building\n",
    "\n",
    "<img src=\"img/hm-banner.png\" alt=\"summary\" width=\"2000\"/>\n",
    "\n",
    "We will build our knowledge graph from the [H&M Personalized Fashion Recommendations Dataset](https://www.kaggle.com/competitions/h-and-m-personalized-fashion-recommendations/data), a sample of real customer purchase data that includes rich information around products including names, types, descriptions, department sections, etc.\n",
    "\n",
    "Below is the graph data model we will use:\n",
    "\n",
    "<img src=\"img/hm-data-model.png\" alt=\"summary\" width=\"1000\"/>\n"
   ]
  },
  {
   "cell_type": "markdown",
   "metadata": {
    "collapsed": false,
    "id": "yU13AU73dyXf"
   },
   "source": [
    "### Connect to Neo4j\n",
    "\n",
    "We will use the [Graph Data Science Python Client](https://neo4j.com/docs/graph-data-science-client/current/) to connect to Neo4j. This client will allow us to easily run [Graph Data Science](https://neo4j.com/docs/graph-data-science/current/introduction/) algorithms from Python.\n",
    "\n",
    "This client will only work if your Neo4j instance has Graph Data Science installed.  If not, you can still use the [Neo4j Python Driver](https://neo4j.com/docs/python-manual/current/) or use Langchain’s Neo4j Graph object."
   ]
  },
  {
   "cell_type": "code",
   "execution_count": 25,
   "metadata": {
    "id": "92GFeMaRdyXf"
   },
   "outputs": [],
   "source": [
    "from graphdatascience import GraphDataScience\n",
    "\n",
    "# Use Neo4j URI and credentials according to our setup\n",
    "gds = GraphDataScience(\n",
    "    NEO4J_URI,\n",
    "    auth=(NEO4J_USERNAME, NEO4J_PASSWORD),\n",
    "    aura_ds=AURA_DS)\n",
    "\n",
    "# Necessary if you enabled Arrow on the db - this is true for AuraDS\n",
    "gds.set_database(\"neo4j\")"
   ]
  },
  {
   "cell_type": "markdown",
   "metadata": {
    "collapsed": false,
    "id": "2H3Yb5JLdyXf"
   },
   "source": [
    "### Get Data, Create Constraints, and Load\n",
    "\n",
    "Before loading data into Neo4j, it is usually best practice to create Key or Uniqueness constraints for nodes. These [constraints](https://neo4j.com/docs/cypher-manual/current/constraints/) act as an index with some validation on unique id properties and thus make `MATCH` statements run significantly faster. Not doing this can result in a VERY slow ingest, so this is a critical step.\n",
    "\n",
    "We will be using convenience functions for loading nodes and relationships in batch. As the data load runs, you can see the Cypher statements being used."
   ]
  },
  {
   "cell_type": "code",
   "execution_count": 26,
   "metadata": {
    "id": "vuweMfqpdyXf",
    "outputId": "449362a2-f73f-423c-bfc3-4883d7cd4659",
    "colab": {
     "base_uri": "https://localhost:8080/",
     "height": 1000
    }
   },
   "outputs": [
    {
     "name": "stdout",
     "output_type": "stream",
     "text": [
      "======  loading Department nodes  ======\n",
      "staging 266 records\n",
      "\n",
      "Using This Cypher Query:\n",
      "```\n",
      "UNWIND $recs AS rec\n",
      "MERGE(n:Department {departmentNo: rec.departmentNo})\n",
      "SET n.departmentName = rec.departmentName, n.sectionNo = rec.sectionNo, n.sectionName = rec.sectionName\n",
      "RETURN count(n) AS nodeLoadedCount\n",
      "```\n",
      "\n",
      "Loaded 266 of 266 nodes\n",
      "======  loading Article nodes  ======\n",
      "staging 13,351 records\n",
      "\n",
      "Using This Cypher Query:\n",
      "```\n",
      "UNWIND $recs AS rec\n",
      "MERGE(n:Article {articleId: rec.articleId})\n",
      "SET n.prodName = rec.prodName, n.productTypeName = rec.productTypeName, n.graphicalAppearanceNo = rec.graphicalAppearanceNo, n.graphicalAppearanceName = rec.graphicalAppearanceName, n.colourGroupCode = rec.colourGroupCode, n.colourGroupName = rec.colourGroupName\n",
      "RETURN count(n) AS nodeLoadedCount\n",
      "```\n",
      "\n",
      "Loaded 10,000 of 13,351 nodes\n",
      "Loaded 13,351 of 13,351 nodes\n",
      "======  loading Product nodes  ======\n",
      "staging 8,044 records\n",
      "\n",
      "Using This Cypher Query:\n",
      "```\n",
      "UNWIND $recs AS rec\n",
      "MERGE(n:Product {productCode: rec.productCode})\n",
      "SET n.prodName = rec.prodName, n.productTypeNo = rec.productTypeNo, n.productTypeName = rec.productTypeName, n.productGroupName = rec.productGroupName, n.garmentGroupNo = rec.garmentGroupNo, n.garmentGroupName = rec.garmentGroupName, n.detailDesc = rec.detailDesc\n",
      "RETURN count(n) AS nodeLoadedCount\n",
      "```\n",
      "\n",
      "Loaded 8,044 of 8,044 nodes\n",
      "======  loading Customer nodes  ======\n",
      "staging 1,000 records\n",
      "\n",
      "Using This Cypher Query:\n",
      "```\n",
      "UNWIND $recs AS rec\n",
      "MERGE(n:Customer {customerId: rec.customerId})\n",
      "SET n.fn = rec.fn, n.active = rec.active, n.clubMemberStatus = rec.clubMemberStatus, n.fashionNewsFrequency = rec.fashionNewsFrequency, n.age = rec.age, n.postalCode = rec.postalCode\n",
      "RETURN count(n) AS nodeLoadedCount\n",
      "```\n",
      "\n",
      "Loaded 1,000 of 1,000 nodes\n",
      "======  loading FROM_DEPARTMENT relationships  ======\n",
      "staging 13,351 records\n",
      "\n",
      "Using This Cypher Query:\n",
      "```\n",
      "\tUNWIND $recs AS rec\n",
      "    MATCH(s:Article {articleId: rec.articleId})\n",
      "    MATCH(t:Department {departmentNo: rec.departmentNo})\n",
      "\tMERGE(s)-[r:FROM_DEPARTMENT]->(t)\n",
      "\tRETURN count(r) AS relLoadedCount\n",
      "```\n",
      "\n",
      "Loaded 10,000 of 13,351 relationships\n",
      "Loaded 13,351 of 13,351 relationships\n",
      "======  loading VARIANT_OF relationships  ======\n",
      "staging 13,351 records\n",
      "\n",
      "Using This Cypher Query:\n",
      "```\n",
      "\tUNWIND $recs AS rec\n",
      "    MATCH(s:Article {articleId: rec.articleId})\n",
      "    MATCH(t:Product {productCode: rec.productCode})\n",
      "\tMERGE(s)-[r:VARIANT_OF]->(t)\n",
      "\tRETURN count(r) AS relLoadedCount\n",
      "```\n",
      "\n",
      "Loaded 10,000 of 13,351 relationships\n",
      "Loaded 13,351 of 13,351 relationships\n",
      "======  loading PURCHASED relationships  ======\n",
      "staging 23,199 records\n",
      "\n",
      "Using This Cypher Query:\n",
      "```\n",
      "\tUNWIND $recs AS rec\n",
      "    MATCH(s:Customer {customerId: rec.customerId})\n",
      "    MATCH(t:Article {articleId: rec.articleId})\n",
      "\tMERGE(s)-[r:PURCHASED {txId: rec.txId}]->(t)\n",
      "\tSET r.tDat = rec.tDat, r.price = rec.price, r.salesChannelId = rec.salesChannelId\n",
      "\tRETURN count(r) AS relLoadedCount\n",
      "```\n",
      "\n",
      "Loaded 10,000 of 23,199 relationships\n",
      "Loaded 20,000 of 23,199 relationships\n",
      "Loaded 23,199 of 23,199 relationships\n",
      "CPU times: user 1.15 s, sys: 61.7 ms, total: 1.21 s\n",
      "Wall time: 11.4 s\n"
     ]
    },
    {
     "data": {
      "text/plain": "   propertySetCount\n0              8044",
      "text/html": "<div>\n<style scoped>\n    .dataframe tbody tr th:only-of-type {\n        vertical-align: middle;\n    }\n\n    .dataframe tbody tr th {\n        vertical-align: top;\n    }\n\n    .dataframe thead th {\n        text-align: right;\n    }\n</style>\n<table border=\"1\" class=\"dataframe\">\n  <thead>\n    <tr style=\"text-align: right;\">\n      <th></th>\n      <th>propertySetCount</th>\n    </tr>\n  </thead>\n  <tbody>\n    <tr>\n      <th>0</th>\n      <td>8044</td>\n    </tr>\n  </tbody>\n</table>\n</div>"
     },
     "execution_count": 26,
     "metadata": {},
     "output_type": "execute_result"
    }
   ],
   "source": [
    "%%time\n",
    "\n",
    "import pandas as pd\n",
    "from neo4j_tools import gds_db_load\n",
    "\n",
    "# get source data - it has been pre-formatted. If you would like to re-generate from source on Kaggle, see the data-prep.ipynb notebook\n",
    "department_df = pd.read_csv('https://storage.googleapis.com/neo4j-workshop-data/genai-hm/department.csv')\n",
    "product_df = pd.read_csv('https://storage.googleapis.com/neo4j-workshop-data/genai-hm/product.csv')\n",
    "product_df.detailDesc = product_df.detailDesc.fillna('')\n",
    "article_df = pd.read_csv('https://storage.googleapis.com/neo4j-workshop-data/genai-hm/article.csv')\n",
    "customer_df = pd.read_csv('https://storage.googleapis.com/neo4j-workshop-data/genai-hm/customer.csv')\n",
    "transaction_df = pd.read_csv('https://storage.googleapis.com/neo4j-workshop-data/genai-hm/transaction.csv')\n",
    "\n",
    "# create constraints - one uniqueness constraint for each node label\n",
    "gds.run_cypher('CREATE CONSTRAINT unique_department_no IF NOT EXISTS FOR (n:Department) REQUIRE n.departmentNo IS UNIQUE')\n",
    "gds.run_cypher('CREATE CONSTRAINT unique_product_code IF NOT EXISTS FOR (n:Product) REQUIRE n.productCode IS UNIQUE')\n",
    "gds.run_cypher('CREATE CONSTRAINT unique_article_id IF NOT EXISTS FOR (n:Article) REQUIRE n.articleId IS UNIQUE')\n",
    "gds.run_cypher('CREATE CONSTRAINT unique_customer_id IF NOT EXISTS FOR (n:Customer) REQUIRE n.customerId IS UNIQUE')\n",
    "\n",
    "# load nodes\n",
    "gds_db_load.load_nodes(gds, department_df, 'departmentNo', 'Department')\n",
    "gds_db_load.load_nodes(gds, article_df.drop(columns=['productCode', 'departmentNo']), 'articleId', 'Article')\n",
    "gds_db_load.load_nodes(gds, product_df, 'productCode', 'Product')\n",
    "gds_db_load.load_nodes(gds, customer_df, 'customerId', 'Customer')\n",
    "\n",
    "# load relationships\n",
    "gds_db_load.load_rels(gds, article_df[['articleId', 'departmentNo']], source_target_labels=('Article', 'Department'),\n",
    "                      source_node_key='articleId', target_node_key='departmentNo',\n",
    "                      rel_type='FROM_DEPARTMENT')\n",
    "gds_db_load.load_rels(gds, article_df[['articleId', 'productCode']], source_target_labels=('Article', 'Product'),\n",
    "                      source_node_key='articleId',target_node_key='productCode',\n",
    "                      rel_type='VARIANT_OF')\n",
    "gds_db_load.load_rels(gds, transaction_df, source_target_labels=('Customer', 'Article'),\n",
    "                      source_node_key='customerId', target_node_key='articleId', rel_key='txId',\n",
    "                      rel_type='PURCHASED')\n",
    "\n",
    "# convert transaction dates\n",
    "gds.run_cypher('''\n",
    "MATCH (:Customer)-[r:PURCHASED]->()\n",
    "SET r.tDat = date(r.tDat)\n",
    "''')\n",
    "\n",
    "# create combined text property. This will help simplify later with semantic search and RAG\n",
    "gds.run_cypher(\"\"\"\n",
    "    MATCH(p:Product)\n",
    "    SET p.text = '##Product\\n' +\n",
    "        'Name: ' + p.prodName + '\\n' +\n",
    "        'Type: ' + p.productTypeName + '\\n' +\n",
    "        'Group: ' + p.productGroupName + '\\n' +\n",
    "        'Garment Type: ' + p.garmentGroupName + '\\n' +\n",
    "        'Description: ' + p.detailDesc\n",
    "    RETURN count(p) AS propertySetCount\n",
    "    \"\"\")"
   ]
  },
  {
   "cell_type": "markdown",
   "metadata": {
    "collapsed": false,
    "id": "SpKcGgRZdyXg"
   },
   "source": [
    "## Create Embeddings and Vector Index\n",
    "\n",
    "In this section, we generate text embeddings out of product descriptions and create a vector index to power search and retrieval.\n"
   ]
  },
  {
   "cell_type": "code",
   "execution_count": 28,
   "outputs": [
    {
     "data": {
      "text/plain": "Empty DataFrame\nColumns: []\nIndex: []",
      "text/html": "<div>\n<style scoped>\n    .dataframe tbody tr th:only-of-type {\n        vertical-align: middle;\n    }\n\n    .dataframe tbody tr th {\n        vertical-align: top;\n    }\n\n    .dataframe thead th {\n        text-align: right;\n    }\n</style>\n<table border=\"1\" class=\"dataframe\">\n  <thead>\n    <tr style=\"text-align: right;\">\n      <th></th>\n    </tr>\n  </thead>\n  <tbody>\n  </tbody>\n</table>\n</div>"
     },
     "execution_count": 28,
     "metadata": {},
     "output_type": "execute_result"
    }
   ],
   "source": [
    "embedding_dimension = 1536 #default for OpenAI text-embedding-ada-002\n",
    "\n",
    "#generate embeddings\n",
    "gds.run_cypher('''\n",
    "MATCH (n:Product) WHERE size(n.detailDesc) <> 0\n",
    "WITH collect(n) AS nodes, toInteger(rand()*$numberOfBatches) AS partition\n",
    "CALL {\n",
    "    WITH nodes\n",
    "    CALL genai.vector.encodeBatch([node IN nodes| node.text], \"OpenAI\", { token: $token})\n",
    "    YIELD index, vector\n",
    "    CALL db.create.setNodeVectorProperty(nodes[index], \"textEmbedding\", vector)\n",
    "} IN TRANSACTIONS OF 1 ROW''', params={'token':OPENAI_API_KEY, 'numberOfBatches':80})\n",
    "\n",
    "#create vector index\n",
    "gds.run_cypher('''\n",
    "CREATE VECTOR INDEX product_text_embeddings IF NOT EXISTS FOR (n:Product) ON (n.textEmbedding)\n",
    "OPTIONS {indexConfig: {\n",
    " `vector.dimensions`: toInteger($dimension),\n",
    " `vector.similarity_function`: 'cosine'\n",
    "}}''', params={'dimension': embedding_dimension})\n",
    "\n",
    "#wait for index to come online\n",
    "gds.run_cypher('CALL db.awaitIndex(\"product_text_embeddings\", 300)')"
   ],
   "metadata": {
    "collapsed": false
   }
  },
  {
   "cell_type": "markdown",
   "source": [
    "Test vector search"
   ],
   "metadata": {
    "collapsed": false
   }
  },
  {
   "cell_type": "code",
   "execution_count": 29,
   "outputs": [
    {
     "data": {
      "text/plain": "   productCode  \\\n0       842001   \n1       817392   \n2       709418   \n3       860833   \n4       893141   \n5       690624   \n6       594834   \n7       620083   \n8       690623   \n9       812167   \n\n                                                                                                                                                                                                                                                                                                                                   text  \\\n0                 ##Product\\nName: Betsy Oversized\\nType: Sweater\\nGroup: Garment Upper body\\nGarment Type: Knitwear\\nDescription: Oversized, V-neck jumper in a soft, loose knit containing some wool and alpaca wool. Dropped shoulders, long, wide sleeves, wide ribbing around the neckline, cuffs and hem, and slits in the sides.   \n1                                                ##Product\\nName: Japp oversize sweater\\nType: Sweater\\nGroup: Garment Upper body\\nGarment Type: Jersey Basic\\nDescription: Relaxed-fit top in sweatshirt fabric with a ribbed turtle neck, dropped shoulders, long, wide sleeves and ribbing at the cuffs and hem. Longer at the back.   \n2                            ##Product\\nName: DIV Anni oversize hood\\nType: Sweater\\nGroup: Garment Upper body\\nGarment Type: Unknown\\nDescription: Oversized top in sweatshirt fabric with a lined hood with a wrapover front. Kangaroo pocket, dropped shoulders, long sleeves and ribbing at the cuffs and hem. Soft brushed inside.   \n3                                           ##Product\\nName: Runar sweater\\nType: Sweater\\nGroup: Garment Upper body\\nGarment Type: Jersey Basic\\nDescription: Oversized top in soft sweatshirt fabric. Relaxed fit with low dropped shoulders, extra-long sleeves and ribbing around the neckline, cuffs and hem. Soft brushed inside.   \n4  ##Product\\nName: Sandy\\nType: Sweater\\nGroup: Garment Upper body\\nGarment Type: Knitwear\\nDescription: Oversized jumper in a soft knit containing some wool with dropped shoulders, long sleeves, a rounded hem and ribbing around the neckline, cuffs and hem. Longer at the back. The polyester content of the jumper is recycled.   \n5                                              ##Product\\nName: Happy\\nType: Sweater\\nGroup: Garment Upper body\\nGarment Type: Knitwear\\nDescription: Oversized jumper in a soft cable knit with a polo neck, low dropped shoulders and long, wide sleeves. Straight hem and ribbing at the cuffs and hem. Slightly longer at the back.   \n6                                                                                             ##Product\\nName: Dolly hood\\nType: Sweater\\nGroup: Garment Upper body\\nGarment Type: Jersey Fancy\\nDescription: Oversized top in soft sweatshirt fabric with a lined drawstring hood, dropped shoulders and ribbing at the cuffs and hem.   \n7                                                                                                                ##Product\\nName: All in sweater\\nType: Sweater\\nGroup: Garment Upper body\\nGarment Type: Jersey Fancy\\nDescription: Cropped top in sweatshirt fabric with long sleeves and ribbing around the neckline, cuffs and hem.   \n8                                                                                              ##Product\\nName: Simba\\nType: Sweater\\nGroup: Garment Upper body\\nGarment Type: Knitwear\\nDescription: Oversized jumper in a soft knit containing some wool with a cowl neck, long raglan sleeves and wide ribbing at the cuffs and hem.   \n9                           ##Product\\nName: Macy\\nType: Sweater\\nGroup: Garment Upper body\\nGarment Type: Knitwear\\nDescription: Oversized jumper in a soft knit containing some wool with a ribbed polo neck, low dropped shoulders, long sleeves, and ribbing at the cuffs and hem. The polyester content of the jumper is recycled.   \n\n      score  \n0  0.947626  \n1  0.946449  \n2  0.933464  \n3  0.932758  \n4  0.931518  \n5  0.931496  \n6  0.930855  \n7  0.930159  \n8  0.929556  \n9  0.929450  ",
      "text/html": "<div>\n<style scoped>\n    .dataframe tbody tr th:only-of-type {\n        vertical-align: middle;\n    }\n\n    .dataframe tbody tr th {\n        vertical-align: top;\n    }\n\n    .dataframe thead th {\n        text-align: right;\n    }\n</style>\n<table border=\"1\" class=\"dataframe\">\n  <thead>\n    <tr style=\"text-align: right;\">\n      <th></th>\n      <th>productCode</th>\n      <th>text</th>\n      <th>score</th>\n    </tr>\n  </thead>\n  <tbody>\n    <tr>\n      <th>0</th>\n      <td>842001</td>\n      <td>##Product\\nName: Betsy Oversized\\nType: Sweater\\nGroup: Garment Upper body\\nGarment Type: Knitwear\\nDescription: Oversized, V-neck jumper in a soft, loose knit containing some wool and alpaca wool. Dropped shoulders, long, wide sleeves, wide ribbing around the neckline, cuffs and hem, and slits in the sides.</td>\n      <td>0.947626</td>\n    </tr>\n    <tr>\n      <th>1</th>\n      <td>817392</td>\n      <td>##Product\\nName: Japp oversize sweater\\nType: Sweater\\nGroup: Garment Upper body\\nGarment Type: Jersey Basic\\nDescription: Relaxed-fit top in sweatshirt fabric with a ribbed turtle neck, dropped shoulders, long, wide sleeves and ribbing at the cuffs and hem. Longer at the back.</td>\n      <td>0.946449</td>\n    </tr>\n    <tr>\n      <th>2</th>\n      <td>709418</td>\n      <td>##Product\\nName: DIV Anni oversize hood\\nType: Sweater\\nGroup: Garment Upper body\\nGarment Type: Unknown\\nDescription: Oversized top in sweatshirt fabric with a lined hood with a wrapover front. Kangaroo pocket, dropped shoulders, long sleeves and ribbing at the cuffs and hem. Soft brushed inside.</td>\n      <td>0.933464</td>\n    </tr>\n    <tr>\n      <th>3</th>\n      <td>860833</td>\n      <td>##Product\\nName: Runar sweater\\nType: Sweater\\nGroup: Garment Upper body\\nGarment Type: Jersey Basic\\nDescription: Oversized top in soft sweatshirt fabric. Relaxed fit with low dropped shoulders, extra-long sleeves and ribbing around the neckline, cuffs and hem. Soft brushed inside.</td>\n      <td>0.932758</td>\n    </tr>\n    <tr>\n      <th>4</th>\n      <td>893141</td>\n      <td>##Product\\nName: Sandy\\nType: Sweater\\nGroup: Garment Upper body\\nGarment Type: Knitwear\\nDescription: Oversized jumper in a soft knit containing some wool with dropped shoulders, long sleeves, a rounded hem and ribbing around the neckline, cuffs and hem. Longer at the back. The polyester content of the jumper is recycled.</td>\n      <td>0.931518</td>\n    </tr>\n    <tr>\n      <th>5</th>\n      <td>690624</td>\n      <td>##Product\\nName: Happy\\nType: Sweater\\nGroup: Garment Upper body\\nGarment Type: Knitwear\\nDescription: Oversized jumper in a soft cable knit with a polo neck, low dropped shoulders and long, wide sleeves. Straight hem and ribbing at the cuffs and hem. Slightly longer at the back.</td>\n      <td>0.931496</td>\n    </tr>\n    <tr>\n      <th>6</th>\n      <td>594834</td>\n      <td>##Product\\nName: Dolly hood\\nType: Sweater\\nGroup: Garment Upper body\\nGarment Type: Jersey Fancy\\nDescription: Oversized top in soft sweatshirt fabric with a lined drawstring hood, dropped shoulders and ribbing at the cuffs and hem.</td>\n      <td>0.930855</td>\n    </tr>\n    <tr>\n      <th>7</th>\n      <td>620083</td>\n      <td>##Product\\nName: All in sweater\\nType: Sweater\\nGroup: Garment Upper body\\nGarment Type: Jersey Fancy\\nDescription: Cropped top in sweatshirt fabric with long sleeves and ribbing around the neckline, cuffs and hem.</td>\n      <td>0.930159</td>\n    </tr>\n    <tr>\n      <th>8</th>\n      <td>690623</td>\n      <td>##Product\\nName: Simba\\nType: Sweater\\nGroup: Garment Upper body\\nGarment Type: Knitwear\\nDescription: Oversized jumper in a soft knit containing some wool with a cowl neck, long raglan sleeves and wide ribbing at the cuffs and hem.</td>\n      <td>0.929556</td>\n    </tr>\n    <tr>\n      <th>9</th>\n      <td>812167</td>\n      <td>##Product\\nName: Macy\\nType: Sweater\\nGroup: Garment Upper body\\nGarment Type: Knitwear\\nDescription: Oversized jumper in a soft knit containing some wool with a ribbed polo neck, low dropped shoulders, long sleeves, and ribbing at the cuffs and hem. The polyester content of the jumper is recycled.</td>\n      <td>0.929450</td>\n    </tr>\n  </tbody>\n</table>\n</div>"
     },
     "execution_count": 29,
     "metadata": {},
     "output_type": "execute_result"
    }
   ],
   "source": [
    "search_prompt = 'Oversized Sweaters'\n",
    "\n",
    "gds.run_cypher('''\n",
    "WITH genai.vector.encode($searchPrompt, \"OpenAI\", { token: $token}) AS queryVector\n",
    "CALL db.index.vector.queryNodes(\"product_text_embeddings\", 10, queryVector)\n",
    "YIELD node AS product, score\n",
    "RETURN product.productCode AS productCode,\n",
    "    product.text AS text,\n",
    "    score\n",
    "''', params={'searchPrompt': search_prompt, 'token':OPENAI_API_KEY})"
   ],
   "metadata": {
    "collapsed": false
   }
  }
 ],
 "metadata": {
  "colab": {
   "provenance": [],
   "toc_visible": true
  },
  "kernelspec": {
   "display_name": "Python 3",
   "language": "python",
   "name": "python3"
  },
  "language_info": {
   "codemirror_mode": {
    "name": "ipython",
    "version": 2
   },
   "file_extension": ".py",
   "mimetype": "text/x-python",
   "name": "python",
   "nbconvert_exporter": "python",
   "pygments_lexer": "ipython2",
   "version": "2.7.6"
  }
 },
 "nbformat": 4,
 "nbformat_minor": 0
}
